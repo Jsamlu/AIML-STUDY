{
  "nbformat": 4,
  "nbformat_minor": 0,
  "metadata": {
    "colab": {
      "provenance": []
    },
    "kernelspec": {
      "name": "python3",
      "display_name": "Python 3"
    },
    "language_info": {
      "name": "python"
    }
  },
  "cells": [
    {
      "cell_type": "code",
      "execution_count": null,
      "metadata": {
        "colab": {
          "base_uri": "https://localhost:8080/"
        },
        "id": "CvV4B11_YJ8_",
        "outputId": "d65b8318-946c-4681-83ef-d8d6989e8adf"
      },
      "outputs": [
        {
          "output_type": "stream",
          "name": "stdout",
          "text": [
            "[[     1 150000 180000 220000 250000]\n",
            " [     2 120000 140000 160000 190000]\n",
            " [     3 200000 230000 260000 300000]\n",
            " [     4 180000 210000 240000 270000]\n",
            " [     5 160000 185000 205000 230000]]\n"
          ]
        }
      ],
      "source": [
        "import numpy as np\n",
        "import matplotlib.pyplot as plt\n",
        "\n",
        "\n",
        "# Data structure: [restaurant_id, 2021, 2022, 2023, 2024]\n",
        "sales_data = np.array([\n",
        "    [1, 150000, 180000, 220000, 250000],  # Paradise Biryani\n",
        "    [2, 120000, 140000, 160000, 190000],  # Beijing Bites\n",
        "    [3, 200000, 230000, 260000, 300000],  # Pizza Hub\n",
        "    [4, 180000, 210000, 240000, 270000],  # Burger Point\n",
        "    [5, 160000, 185000, 205000, 230000]   # Chai Point\n",
        "])\n",
        "print(sales_data)"
      ]
    },
    {
      "cell_type": "code",
      "source": [
        "print(sales_data.size) #shape of data"
      ],
      "metadata": {
        "colab": {
          "base_uri": "https://localhost:8080/"
        },
        "id": "xvelqHVZYtJh",
        "outputId": "ab07647e-9c91-4b99-e20d-7a9e2f80e88c"
      },
      "execution_count": null,
      "outputs": [
        {
          "output_type": "stream",
          "name": "stdout",
          "text": [
            "25\n"
          ]
        }
      ]
    },
    {
      "cell_type": "code",
      "source": [
        "print(np.sum(sales_data, axis=0)) #sum in one axis"
      ],
      "metadata": {
        "colab": {
          "base_uri": "https://localhost:8080/"
        },
        "id": "9tQI4SuXY6Sg",
        "outputId": "16c2d3ea-12a3-48fc-cd68-d4dd4571c23d"
      },
      "execution_count": null,
      "outputs": [
        {
          "output_type": "stream",
          "name": "stdout",
          "text": [
            "[     15  810000  945000 1085000 1240000]\n"
          ]
        }
      ]
    },
    {
      "cell_type": "code",
      "source": [
        "yearly_total = np.sum(sales_data[:, 1:], axis=0) #here 1: is used to ignore first column of data\n",
        "print(yearly_total)"
      ],
      "metadata": {
        "colab": {
          "base_uri": "https://localhost:8080/"
        },
        "id": "I8PfMjnQZbP5",
        "outputId": "afa453ec-2ac6-4daa-c1db-5147438f1f1b"
      },
      "execution_count": null,
      "outputs": [
        {
          "output_type": "stream",
          "name": "stdout",
          "text": [
            "[ 810000  945000 1085000 1240000]\n"
          ]
        }
      ]
    },
    {
      "cell_type": "code",
      "source": [
        "#minimum sales horizantally\n",
        "\n",
        "print(np.min(sales_data[:, 1:], axis=1))"
      ],
      "metadata": {
        "colab": {
          "base_uri": "https://localhost:8080/"
        },
        "id": "TjuebsbGabOq",
        "outputId": "f8b48b72-a773-40c7-c70a-b69f6c18dbc0"
      },
      "execution_count": null,
      "outputs": [
        {
          "output_type": "stream",
          "name": "stdout",
          "text": [
            "[150000 120000 200000 180000 160000]\n"
          ]
        }
      ]
    },
    {
      "cell_type": "markdown",
      "source": [],
      "metadata": {
        "id": "2eQUBqOkaFrk"
      }
    },
    {
      "cell_type": "code",
      "source": [
        "#maximum sales vertically\n",
        "\n",
        "print(np.max(sales_data[:, 1:],axis=0))"
      ],
      "metadata": {
        "colab": {
          "base_uri": "https://localhost:8080/"
        },
        "id": "Iehh0yyba397",
        "outputId": "1456de8a-94ae-44f3-f9bf-a20c102084ac"
      },
      "execution_count": null,
      "outputs": [
        {
          "output_type": "stream",
          "name": "stdout",
          "text": [
            "[200000 230000 260000 300000]\n"
          ]
        }
      ]
    },
    {
      "cell_type": "code",
      "source": [
        "#cumulative sales of first shop\n",
        "\n",
        "cumsum = np.cumsum(sales_data[:, 1:], axis=1)\n",
        "print(cumsum)\n",
        "\n",
        "plt.figure(figsize= (10,6))\n",
        "plt.plot(np.mean(cumsum, axis=0))\n",
        "plt.title(\"avegarge cmulative sales of all shops\")\n",
        "plt.xlabel(\"years\")\n",
        "plt.ylabel(\"sales\")\n",
        "plt.grid(True)\n",
        "plt.show()"
      ],
      "metadata": {
        "colab": {
          "base_uri": "https://localhost:8080/",
          "height": 506
        },
        "id": "YiWk5p91bTi5",
        "outputId": "d6c0105e-77e5-440e-83a4-dcb1e9c333cd"
      },
      "execution_count": null,
      "outputs": [
        {
          "output_type": "stream",
          "name": "stdout",
          "text": [
            "[[150000 330000 550000 800000]\n",
            " [120000 260000 420000 610000]\n",
            " [200000 430000 690000 990000]\n",
            " [180000 390000 630000 900000]\n",
            " [160000 345000 550000 780000]]\n"
          ]
        },
        {
          "output_type": "display_data",
          "data": {
            "text/plain": [
              "<Figure size 1000x600 with 1 Axes>"
            ],
            "image/png": "[encoded data removed]"
          },
          "metadata": {}
        }
      ]
    },
    {
      "cell_type": "code",
      "source": [
        "#VECTOR math\n",
        "\n",
        "vec1 = np.array([1,2,3,4])\n",
        "vec2 = np.array([5,6,7,8])\n",
        "\n",
        "print(\"vector addition\", vec1+vec2)\n",
        "\n",
        "print(\"vector multiplication\", vec2*vec2)\n",
        "\n",
        "print(\"dot product\", np.dot(vec1,vec2))\n",
        "\n",
        "angle = np.arccos(np.dot(vec1, vec2)/ (np.linalg.norm(vec1) * np.linalg.norm(vec2)))\n",
        "print(angle)\n",
        "\n",
        "#Vectorized Opreations\n",
        "\n",
        "rest_types = np.array([\"Biryani\", \"Chinese\", \"Pizza\", \"Burger\", \"Chai\"])\n",
        "\n",
        "vectorized_upper = np.vectorize(str.upper)\n",
        "\n",
        "print(vectorized_upper(rest_types))"
      ],
      "metadata": {
        "colab": {
          "base_uri": "https://localhost:8080/"
        },
        "id": "Afc4kuGGccS0",
        "outputId": "2dd35b12-f3b3-411e-e95a-c86ef38fe259"
      },
      "execution_count": null,
      "outputs": [
        {
          "output_type": "stream",
          "name": "stdout",
          "text": [
            "vector addition [ 6  8 10 12]\n",
            "vector multiplication [25 36 49 64]\n",
            "dot product 70\n",
            "0.25019592042251176\n",
            "['BIRYANI' 'CHINESE' 'PIZZA' 'BURGER' 'CHAI']\n"
          ]
        }
      ]
    },
    {
      "cell_type": "code",
      "source": [
        "#mothly average\n",
        "#broadcast : for every single element in matrices\n",
        "\n",
        "monthly_avg = sales_data[:, 1:] / 12\n",
        "print(monthly_avg)\n",
        "\n",
        "\n",
        "\n"
      ],
      "metadata": {
        "id": "zgX77iiGfgvP"
      },
      "execution_count": null,
      "outputs": []
    }
  ]
}